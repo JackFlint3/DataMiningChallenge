{
 "cells": [
  {
   "cell_type": "code",
   "execution_count": 1,
   "id": "c56940a6-7cfc-4d2b-867c-d3125e1e7939",
   "metadata": {
    "execution": {
     "iopub.execute_input": "2023-06-20T13:09:42.464923Z",
     "iopub.status.busy": "2023-06-20T13:09:42.464618Z",
     "iopub.status.idle": "2023-06-20T13:09:48.127289Z",
     "shell.execute_reply": "2023-06-20T13:09:48.126517Z",
     "shell.execute_reply.started": "2023-06-20T13:09:42.464895Z"
    },
    "tags": []
   },
   "outputs": [],
   "source": [
    "import os\n",
    "import h5py\n",
    "\n",
    "import numpy as np\n",
    "from numpy.typing import NDArray\n",
    "\n",
    "import pandas as pd\n",
    "import FFModel\n",
    "\n",
    "import torch\n",
    "import torch.nn as nn\n",
    "import torch.optim as optim\n",
    "import torch.nn.functional as F\n",
    "\n",
    "import albumentations as A\n",
    "import albumentations.pytorch.transforms as Atorch\n",
    "\n",
    "import pytorch_lightning as pl\n",
    "\n",
    "import segmentation_models_pytorch as smp\n",
    "\n",
    "import chabud\n",
    "# Wird gebraucht um das Modell laden zu können. :/\n",
    "from chabud import BandExtractor, NBR, NDVI, GNDVI, EVI, AVI, SAVI, NDMI, MSI, GCI, BSI, NDWI, NDSI, NDGI\n",
    "\n",
    "from pathlib import Path\n",
    "from tqdm.auto import tqdm\n",
    "\n",
    "\n",
    "from trimesh.voxel.runlength import dense_to_brle\n",
    "from pathlib import Path\n",
    "from collections import defaultdict\n",
    "\n",
    "from typing import Any, Union, Dict, Literal\n",
    "\n",
    "import skimage as ski\n",
    "\n",
    "from matplotlib.colors import ListedColormap\n",
    "import matplotlib.pyplot as plt\n",
    "\n",
    "\n",
    "# WICHTIG: Nur so viele CPUs benutzen wie unserem Job zugeteilt sind.\n",
    "#   Sonst wird alles *sehr* langsam!\n",
    "N_CPUS = int(os.getenv(\"SLURM_CPUS_PER_TASK\", 1))\n",
    "torch.set_num_threads(N_CPUS)"
   ]
  },
  {
   "cell_type": "code",
   "execution_count": 2,
   "id": "74da773e-7b6b-4ee7-869c-42c0445e64cf",
   "metadata": {
    "execution": {
     "iopub.execute_input": "2023-06-20T13:09:48.129369Z",
     "iopub.status.busy": "2023-06-20T13:09:48.128941Z",
     "iopub.status.idle": "2023-06-20T13:09:48.137364Z",
     "shell.execute_reply": "2023-06-20T13:09:48.136786Z",
     "shell.execute_reply.started": "2023-06-20T13:09:48.129341Z"
    },
    "tags": []
   },
   "outputs": [
    {
     "data": {
      "text/plain": [
       "[PosixPath('lightning_logs/version_30/checkpoints/epoch=29-step=780.ckpt')]"
      ]
     },
     "execution_count": 2,
     "metadata": {},
     "output_type": "execute_result"
    }
   ],
   "source": [
    "BASEDIR = Path(\"/global/public/chabud-ecml-pkdd2023/\")\n",
    "CHECKPOINTDIR = BASEDIR / \"checkpoints\"\n",
    "LOCALCHECKPOINTS = Path(\"lightning_logs/version_30/checkpoints/\")\n",
    "TRAININGFILE = BASEDIR / \"train_eval.hdf5\"\n",
    "TESTFILE = BASEDIR / \"test.hdf5\"\n",
    "\n",
    "list(LOCALCHECKPOINTS.glob(\"*.ckpt\"))\n",
    "#list(BASEDIR.glob(\"*.hdf5\"))"
   ]
  },
  {
   "cell_type": "code",
   "execution_count": 3,
   "id": "17e6dd61-b57c-42e8-9ff0-d1564b849e3b",
   "metadata": {
    "execution": {
     "iopub.execute_input": "2023-06-20T13:09:48.138362Z",
     "iopub.status.busy": "2023-06-20T13:09:48.138133Z",
     "iopub.status.idle": "2023-06-20T13:09:48.141398Z",
     "shell.execute_reply": "2023-06-20T13:09:48.140765Z",
     "shell.execute_reply.started": "2023-06-20T13:09:48.138339Z"
    },
    "tags": []
   },
   "outputs": [],
   "source": [
    "localCkpt = LOCALCHECKPOINTS / \"epoch=29-step=780.ckpt\""
   ]
  },
  {
   "cell_type": "code",
   "execution_count": 4,
   "id": "49cd31b0-bdcd-4171-be3a-7db6b5c2758d",
   "metadata": {
    "execution": {
     "iopub.execute_input": "2023-06-20T13:09:48.142549Z",
     "iopub.status.busy": "2023-06-20T13:09:48.142144Z",
     "iopub.status.idle": "2023-06-20T13:09:48.873536Z",
     "shell.execute_reply": "2023-06-20T13:09:48.872801Z",
     "shell.execute_reply.started": "2023-06-20T13:09:48.142525Z"
    },
    "tags": []
   },
   "outputs": [],
   "source": [
    "if True:\n",
    "    mdl = FFModel.FFModel.load_from_checkpoint(localCkpt, map_location=\"cpu\")\n",
    "    #mdl = chabud.FireModel.load_from_checkpoint(localCkpt, map_location=\"cpu\")\n",
    "    mdl.datafile = TRAININGFILE\n",
    "    mdl.train_use_pre_fire = False\n",
    "else:\n",
    "    mdl = FFModel.FFModel(datafile=TRAININGFILE, \n",
    "                         channels=[256, 128, 64, 32, 16, 8], \n",
    "                         batch_size=16,\n",
    "                         lr=0.001,\n",
    "                         encoder=\"resnet34\",\n",
    "                         encoder_depth=3,\n",
    "                         encoder_weights=\"imagenet\",\n",
    "                         loss=\"dice\",\n",
    "                         model=\"unet\",\n",
    "                         n_cpus = N_CPUS,\n",
    "                         train_use_pre_fire=True,\n",
    "                         train_transform=A.Compose([\n",
    "                            A.VerticalFlip(p=0.5),       \n",
    "                            A.HorizontalFlip(p=0.5),\n",
    "                            A.Transpose(p=0.5),\n",
    "                            A.RandomRotate90(p=0.5),\n",
    "                            Atorch.ToTensorV2()\n",
    "                        ]))\n",
    "\n"
   ]
  },
  {
   "cell_type": "markdown",
   "id": "08b04c57-657e-4d0c-85cb-ae3668b91b49",
   "metadata": {},
   "source": [
    "## Trainieren\n",
    "\n",
    "Anstelle einer Trainingsschleife nutzen wir den PyTorch Lightning `Trainer` um das Trainieren zu koordinieren."
   ]
  },
  {
   "cell_type": "markdown",
   "id": "fd571980-429a-455e-8d7d-8450ae3d207f",
   "metadata": {},
   "source": [
    "Training starten bis die maximale Anzahl an Epochen erreicht ist oder das Training stagniert."
   ]
  },
  {
   "cell_type": "code",
   "execution_count": 5,
   "id": "eb5b5ecb-f320-4511-8cb0-6482a27be627",
   "metadata": {
    "execution": {
     "iopub.execute_input": "2023-06-20T13:09:48.875271Z",
     "iopub.status.busy": "2023-06-20T13:09:48.874788Z",
     "iopub.status.idle": "2023-06-20T13:09:48.879060Z",
     "shell.execute_reply": "2023-06-20T13:09:48.877935Z",
     "shell.execute_reply.started": "2023-06-20T13:09:48.875244Z"
    },
    "tags": []
   },
   "outputs": [],
   "source": [
    "if False:\n",
    "    trainer = pl.Trainer(log_every_n_steps=5, max_epochs=30)\n",
    "    trainer.fit(mdl)"
   ]
  },
  {
   "cell_type": "code",
   "execution_count": 6,
   "id": "8eacfe16-dd56-4fce-ae52-004fbe5df7b1",
   "metadata": {
    "execution": {
     "iopub.execute_input": "2023-06-20T13:09:48.881828Z",
     "iopub.status.busy": "2023-06-20T13:09:48.881367Z",
     "iopub.status.idle": "2023-06-20T13:09:48.886569Z",
     "shell.execute_reply": "2023-06-20T13:09:48.885553Z",
     "shell.execute_reply.started": "2023-06-20T13:09:48.881800Z"
    },
    "tags": []
   },
   "outputs": [],
   "source": [
    "def process_dataset(model, bands):\n",
    "    #channels = np.stack([c(bands) for c in model.channels])\n",
    "    with torch.set_grad_enabled(False):\n",
    "        #pred = model.forward(torch.Tensor(channels[np.newaxis, ...])).sigmoid() > 0.5\n",
    "        pred = model.forward(torch.Tensor(np.stack(bands)[np.newaxis, ...])).sigmoid() > 0.5\n",
    "        pred = pred[0, 0, ...].detach().numpy()\n",
    "        \n",
    "    return pred"
   ]
  },
  {
   "cell_type": "code",
   "execution_count": 7,
   "id": "532f24a4-e67d-44ab-8cc6-7bb394116268",
   "metadata": {
    "execution": {
     "iopub.execute_input": "2023-06-20T13:09:48.889509Z",
     "iopub.status.busy": "2023-06-20T13:09:48.889266Z",
     "iopub.status.idle": "2023-06-20T13:09:48.893803Z",
     "shell.execute_reply": "2023-06-20T13:09:48.893176Z",
     "shell.execute_reply.started": "2023-06-20T13:09:48.889486Z"
    },
    "tags": []
   },
   "outputs": [],
   "source": [
    "# class RandomModel:\n",
    "#     def __init__(self, shape):\n",
    "#         self.shape = shape\n",
    "#         return\n",
    "\n",
    "#     def __call__(self, input):\n",
    "#         # input is ignored, just generate some random predictions\n",
    "#         return np.random.randint(0, 2, size=self.shape, dtype=bool)\n",
    "    \n",
    "class PPModel:\n",
    "    def __init__(self, model) -> None:\n",
    "        self.model = model\n",
    "        return\n",
    "    \n",
    "    def __call__(self, input, scene) -> Any:\n",
    "        bands = FFModel.get_fire_bands(input[\"post\"])\n",
    "        pred = process_dataset(model = self.model, bands = bands)\n",
    "\n",
    "        ## Post Processing goes here\n",
    "        return pred"
   ]
  },
  {
   "cell_type": "code",
   "execution_count": 8,
   "id": "e0a53a0a-2b94-46c0-b2be-7b3d1dd1acae",
   "metadata": {
    "execution": {
     "iopub.execute_input": "2023-06-20T13:09:48.894815Z",
     "iopub.status.busy": "2023-06-20T13:09:48.894537Z",
     "iopub.status.idle": "2023-06-20T13:09:48.901635Z",
     "shell.execute_reply": "2023-06-20T13:09:48.901001Z",
     "shell.execute_reply.started": "2023-06-20T13:09:48.894792Z"
    },
    "tags": []
   },
   "outputs": [],
   "source": [
    "def retrieve_validation_fold(path: Union[str, Path], training = True) -> Dict[str, NDArray]:\n",
    "    result = defaultdict(dict)\n",
    "    with h5py.File(path, 'r') as fp:\n",
    "        for uuid, values in fp.items():\n",
    "            if training and values.attrs['fold'] != 0:\n",
    "                continue\n",
    "            \n",
    "            result[uuid]['post'] = values['post_fire'][...].astype(\"float32\") / 10000.0\n",
    "            if not 'pre_fire' in values:\n",
    "                result[uuid]['pre'] = np.zeros_like(result[uuid]['post'])\n",
    "            else:\n",
    "                result[uuid]['pre'] = values['pre_fire'][...].astype(\"float32\") / 10000.0\n",
    "            result[uuid]['delta'] = result[uuid]['pre'] - result[uuid]['post']\n",
    "            if training:\n",
    "                result[uuid]['mask'] = values[\"mask\"][..., 0].astype(\"float32\")\n",
    "\n",
    "    return dict(result)\n",
    "\n",
    "\n",
    "def compute_submission_mask(id: str, mask: NDArray):\n",
    "    brle = dense_to_brle(mask.astype(bool).flatten())\n",
    "    return {\"id\": id, \"rle_mask\": brle, \"index\": np.arange(len(brle))}"
   ]
  },
  {
   "cell_type": "code",
   "execution_count": 9,
   "id": "bbd7527f-1c1d-4eb6-bb1d-00b45cefbe3f",
   "metadata": {
    "execution": {
     "iopub.execute_input": "2023-06-20T13:09:48.902832Z",
     "iopub.status.busy": "2023-06-20T13:09:48.902394Z",
     "iopub.status.idle": "2023-06-20T13:09:48.906404Z",
     "shell.execute_reply": "2023-06-20T13:09:48.905816Z",
     "shell.execute_reply.started": "2023-06-20T13:09:48.902807Z"
    },
    "tags": []
   },
   "outputs": [],
   "source": [
    "def IoUScore(prediction, mask):\n",
    "    tp, fp, fn, tn = smp.metrics.get_stats(torch.from_numpy(prediction), torch.from_numpy(mask).long(), mode=\"binary\")\n",
    "    iou = smp.metrics.iou_score(tp, fp, fn, tn, reduction=\"micro-imagewise\")\n",
    "    return iou"
   ]
  },
  {
   "cell_type": "code",
   "execution_count": 10,
   "id": "a9b65160-239a-4b03-9ce6-0f1c75889ec0",
   "metadata": {
    "execution": {
     "iopub.execute_input": "2023-06-20T13:09:48.907472Z",
     "iopub.status.busy": "2023-06-20T13:09:48.907233Z",
     "iopub.status.idle": "2023-06-20T13:09:50.428680Z",
     "shell.execute_reply": "2023-06-20T13:09:50.427663Z",
     "shell.execute_reply.started": "2023-06-20T13:09:48.907449Z"
    },
    "tags": []
   },
   "outputs": [],
   "source": [
    "validation_fold = retrieve_validation_fold(TESTFILE, training = False)\n"
   ]
  },
  {
   "cell_type": "code",
   "execution_count": 11,
   "id": "38f5d19b-7ff6-408d-8d0d-aa3e994f034a",
   "metadata": {
    "execution": {
     "iopub.execute_input": "2023-06-20T13:09:50.429786Z",
     "iopub.status.busy": "2023-06-20T13:09:50.429573Z",
     "iopub.status.idle": "2023-06-20T13:10:03.924776Z",
     "shell.execute_reply": "2023-06-20T13:10:03.923665Z",
     "shell.execute_reply.started": "2023-06-20T13:09:50.429763Z"
    },
    "tags": []
   },
   "outputs": [],
   "source": [
    "# use a list to accumulate results\n",
    "result = []\n",
    "\n",
    "# instantiate the model\n",
    "model = PPModel(model=mdl)\n",
    "for uuid in validation_fold:\n",
    "    input_images = validation_fold[uuid]\n",
    "\n",
    "    # perform the prediction\n",
    "    predicted = model(input_images, uuid)\n",
    "    # convert the prediction in RLE format\n",
    "    \n",
    "\n",
    "    encoded_prediction = compute_submission_mask(uuid, predicted)\n",
    "    result.append(pd.DataFrame(encoded_prediction))"
   ]
  },
  {
   "cell_type": "code",
   "execution_count": 12,
   "id": "55b47aab-a99d-4248-bb48-a4ca90a457a0",
   "metadata": {
    "execution": {
     "iopub.execute_input": "2023-06-20T13:10:03.927008Z",
     "iopub.status.busy": "2023-06-20T13:10:03.926524Z",
     "iopub.status.idle": "2023-06-20T13:10:03.930568Z",
     "shell.execute_reply": "2023-06-20T13:10:03.929530Z",
     "shell.execute_reply.started": "2023-06-20T13:10:03.926979Z"
    },
    "tags": []
   },
   "outputs": [],
   "source": [
    "# concatenate all dataframes\n",
    "#submission_df = pd.concat(result)\n",
    "#submission_df.to_csv('test_predictions_model4v8.csv', index=False)"
   ]
  },
  {
   "cell_type": "code",
   "execution_count": 13,
   "id": "10d43946-9611-4b74-9708-2bc6f7b4091e",
   "metadata": {
    "execution": {
     "iopub.execute_input": "2023-06-20T13:10:03.932259Z",
     "iopub.status.busy": "2023-06-20T13:10:03.931798Z",
     "iopub.status.idle": "2023-06-20T13:10:07.786154Z",
     "shell.execute_reply": "2023-06-20T13:10:07.785070Z",
     "shell.execute_reply.started": "2023-06-20T13:10:03.932234Z"
    },
    "tags": []
   },
   "outputs": [],
   "source": [
    "validation_fold = retrieve_validation_fold(TRAININGFILE, training = True)"
   ]
  },
  {
   "cell_type": "code",
   "execution_count": 14,
   "id": "7575f6ce-65da-4211-8c4c-23062ee8a745",
   "metadata": {
    "execution": {
     "iopub.execute_input": "2023-06-20T13:10:07.787926Z",
     "iopub.status.busy": "2023-06-20T13:10:07.787565Z",
     "iopub.status.idle": "2023-06-20T13:10:34.294193Z",
     "shell.execute_reply": "2023-06-20T13:10:34.293070Z",
     "shell.execute_reply.started": "2023-06-20T13:10:07.787899Z"
    },
    "tags": []
   },
   "outputs": [],
   "source": [
    "# use a list to accumulate results\n",
    "result = []\n",
    "scores = []\n",
    "# instantiate the model\n",
    "model = PPModel(model=mdl)\n",
    "for uuid in validation_fold:\n",
    "    input_images = validation_fold[uuid]\n",
    "\n",
    "    # perform the prediction\n",
    "    predicted = model(input_images, uuid)\n",
    "    # convert the prediction in RLE format\n",
    "    \n",
    "    if 'mask' in input_images:\n",
    "        score = IoUScore(predicted, input_images['mask'])\n",
    "        scores.append(score)\n",
    "\n",
    "    encoded_prediction = compute_submission_mask(uuid, predicted)\n",
    "    result.append(pd.DataFrame(encoded_prediction))"
   ]
  },
  {
   "cell_type": "code",
   "execution_count": 15,
   "id": "6b9bd412-9d35-45d4-af3b-9fa03d16cbce",
   "metadata": {
    "execution": {
     "iopub.execute_input": "2023-06-20T13:10:34.296212Z",
     "iopub.status.busy": "2023-06-20T13:10:34.295728Z",
     "iopub.status.idle": "2023-06-20T13:10:34.301376Z",
     "shell.execute_reply": "2023-06-20T13:10:34.300755Z",
     "shell.execute_reply.started": "2023-06-20T13:10:34.296182Z"
    },
    "tags": []
   },
   "outputs": [
    {
     "name": "stdout",
     "output_type": "stream",
     "text": [
      "0.5734267\n"
     ]
    }
   ],
   "source": [
    "allScore = np.mean(scores)\n",
    "print(allScore)\n",
    "\n"
   ]
  },
  {
   "cell_type": "code",
   "execution_count": 16,
   "id": "2880b6dc-907e-4ddc-a654-e56fc9fface8",
   "metadata": {
    "execution": {
     "iopub.execute_input": "2023-06-20T13:10:34.302825Z",
     "iopub.status.busy": "2023-06-20T13:10:34.302370Z",
     "iopub.status.idle": "2023-06-20T13:10:34.305427Z",
     "shell.execute_reply": "2023-06-20T13:10:34.304812Z",
     "shell.execute_reply.started": "2023-06-20T13:10:34.302800Z"
    },
    "tags": []
   },
   "outputs": [],
   "source": [
    "# concatenate all dataframes\n",
    "#submission_df = pd.concat(result)\n",
    "#submission_df.to_csv('train_predictions_model4v8.csv', index=False)"
   ]
  },
  {
   "cell_type": "code",
   "execution_count": 17,
   "id": "adedeea5-ac66-40e1-b6ee-67943c2ba771",
   "metadata": {
    "execution": {
     "iopub.execute_input": "2023-06-20T13:10:34.306895Z",
     "iopub.status.busy": "2023-06-20T13:10:34.306450Z",
     "iopub.status.idle": "2023-06-20T13:10:34.728853Z",
     "shell.execute_reply": "2023-06-20T13:10:34.728197Z",
     "shell.execute_reply.started": "2023-06-20T13:10:34.306870Z"
    },
    "tags": []
   },
   "outputs": [
    {
     "name": "stdout",
     "output_type": "stream",
     "text": [
      "7db22730-f011-40d9-a05b-657ea7fc960c_1\n",
      "tensor(0.9378)\n"
     ]
    },
    {
     "data": {
      "image/png": "[encoded data removed]",
      "text/plain": [
       "<Figure size 1200x3600 with 2 Axes>"
      ]
     },
     "metadata": {},
     "output_type": "display_data"
    }
   ],
   "source": [
    "import random\n",
    "uuids = []\n",
    "\n",
    "for item in validation_fold:\n",
    "    uuids.append(item)\n",
    "    \n",
    "uuid = random.choice(uuids)\n",
    "print(uuid)\n",
    "input_images = validation_fold[uuid]\n",
    "predicted = model(input_images, uuid)\n",
    "if 'mask' in input_images:\n",
    "    mask = input_images['mask']\n",
    "else:\n",
    "    mask = predicted\n",
    "\n",
    "score = IoUScore(predicted, mask)\n",
    "print (score)\n",
    "\n",
    "fig, ax =  plt.subplots(nrows=1, ncols=2, figsize=(12, 3*12))\n",
    "ax[0].imshow(predicted, interpolation=\"nearest\")\n",
    "ax[0].axis(\"off\")\n",
    "ax[1].imshow(mask, interpolation=\"nearest\")\n",
    "ax[1].axis(\"off\")\n",
    "fig.tight_layout()"
   ]
  }
 ],
 "metadata": {
  "kernelspec": {
   "display_name": "Python 3.10 / DM",
   "language": "python",
   "name": "py310-dm"
  },
  "language_info": {
   "codemirror_mode": {
    "name": "ipython",
    "version": 3
   },
   "file_extension": ".py",
   "mimetype": "text/x-python",
   "name": "python",
   "nbconvert_exporter": "python",
   "pygments_lexer": "ipython3",
   "version": "3.10.10"
  }
 },
 "nbformat": 4,
 "nbformat_minor": 5
}
