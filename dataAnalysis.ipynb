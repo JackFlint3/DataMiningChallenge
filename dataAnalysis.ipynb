{
 "cells": [
  {
   "attachments": {},
   "cell_type": "markdown",
   "metadata": {},
   "source": [
    "### Imports"
   ]
  },
  {
   "cell_type": "code",
   "execution_count": null,
   "metadata": {},
   "outputs": [],
   "source": [
    "import h5py\n",
    "import numpy as np\n",
    "import pandas as pd\n",
    "import xarray as xr\n",
    "import seaborn as sns\n",
    "import matplotlib.pyplot as plt\n",
    "\n",
    "from tqdm import tqdm\n",
    "from pathlib import Path"
   ]
  },
  {
   "cell_type": "code",
   "execution_count": null,
   "metadata": {},
   "outputs": [],
   "source": [
    "BASEDIR = Path(\"\")\n",
    "\n",
    "fn = BASEDIR / \"train_eval.hdf5\""
   ]
  },
  {
   "attachments": {},
   "cell_type": "markdown",
   "metadata": {},
   "source": [
    "### Pre Evaluation"
   ]
  },
  {
   "attachments": {},
   "cell_type": "markdown",
   "metadata": {},
   "source": [
    "Iterate over the different Groups and summarize them to get an idea of which to use to analyze"
   ]
  },
  {
   "cell_type": "code",
   "execution_count": null,
   "metadata": {},
   "outputs": [],
   "source": [
    "objectWithMask = 0\n",
    "objectWithPost_fire = 0\n",
    "objectWithPre_fire = 0\n",
    "\n",
    "objectsSummary = []\n",
    "currentObject = {}\n",
    "\n",
    "def listObject(obj, indent=0):\n",
    "    global objectWithMask\n",
    "    global objectWithPost_fire\n",
    "    global objectWithPre_fire\n",
    "    global objectsSummary\n",
    "    global currentObject\n",
    "\n",
    "    \n",
    "    \n",
    "    for name, thing in obj.items():\n",
    "        if indent == 0:\n",
    "            currentObject = { \"name\" : \"\", \"mask\": False, \"pre_fire\" : False, \"post_fire\": False}\n",
    "\n",
    "        if isinstance(thing, h5py.Group):\n",
    "            if indent == 0:\n",
    "                currentObject[\"name\"] = name\n",
    "            listObject(thing, indent+1)\n",
    "            \n",
    "        else:\n",
    "            if name == \"mask\":\n",
    "                currentObject[\"mask\"] = True\n",
    "                objectWithMask += 1\n",
    "            elif name == \"post_fire\":\n",
    "                currentObject[\"post_fire\"] = True\n",
    "                objectWithPost_fire += 1\n",
    "            elif name == \"pre_fire\":\n",
    "                currentObject[\"pre_fire\"] = True\n",
    "                objectWithPre_fire += 1\n",
    "            else:\n",
    "                print(name)\n",
    "    \n",
    "        if indent == 0:\n",
    "            objectsSummary.append(currentObject)\n",
    "\n",
    "    \n",
    "\n",
    "with h5py.File(fn, \"r\") as fd:\n",
    "    listObject(fd)"
   ]
  },
  {
   "cell_type": "code",
   "execution_count": null,
   "metadata": {},
   "outputs": [],
   "source": [
    "print(\"Items with mask: \" + str(objectWithMask))\n",
    "print(\"Items with pre_fire: \" + str(objectWithPre_fire))\n",
    "print(\"Items with post_fire: \" + str(objectWithPost_fire))\n",
    "print(\"Overall Items: \" + str(len(objectsSummary)))"
   ]
  },
  {
   "attachments": {},
   "cell_type": "markdown",
   "metadata": {},
   "source": [
    "### Single Case Evaluation"
   ]
  },
  {
   "attachments": {},
   "cell_type": "markdown",
   "metadata": {},
   "source": [
    "Visualizing some of the images provided"
   ]
  },
  {
   "cell_type": "code",
   "execution_count": null,
   "metadata": {},
   "outputs": [],
   "source": [
    "# Function copied from practice\n",
    "def to_xarray(dataset, pretty_band_names=True):\n",
    "    \"\"\"... Ergänzen Sie hier eine guten Docstring ... \"\"\"\n",
    "    \n",
    "    if pretty_band_names:\n",
    "        BANDS = [\"coastal_aerosol\", \"blue\", \"green\", \"red\",\n",
    "                 \"veg_red_1\", \"veg_red_2\", \"veg_red_3\", \"nir\", \n",
    "                 \"veg_red_4\", \"water_vapour\", \"swir_1\", \"swir_2\"]\n",
    "    else:\n",
    "        BANDS = [\"1\", \"2\", \"3\", \"4\", \"5\", \"6\", \"7\", \"8\", \"8a\", \"9\", \"11\", \"12\"]\n",
    "        \n",
    "    post = dataset[\"post_fire\"][...].astype(\"float32\") / 10000.0\n",
    "    \n",
    "    # Da `pre_fire` manchmal fehlt ersetzen wir es durch 0 Werte was\n",
    "    # eh der Platzhalter für einen fehlenden Messwert ist.\n",
    "    try:\n",
    "        pre = dataset[\"pre_fire\"][...].astype(\"float32\") / 10000.0\n",
    "    except KeyError:\n",
    "        pre = np.zeros_like(post, dtype=\"float32\")\n",
    "        \n",
    "    # Da die Maske nur ein \"Band\" hat können wir die dritte Dimension einfach\n",
    "    # weglassen. Das erreichen wir in dem wir mit `0` am Ende indizieren.\n",
    "    mask = dataset[\"mask\"][..., 0]\n",
    "    \n",
    "    return {\"pre\": xr.DataArray(pre, dims=[\"x\", \"y\", \"band\"], coords={\"x\": range(512), \"y\": range(512), \"band\": BANDS}),\n",
    "            \"post\": xr.DataArray(post, dims=[\"x\", \"y\", \"band\"], coords={\"x\": range(512), \"y\": range(512), \"band\": BANDS}),\n",
    "            \"mask\": xr.DataArray(mask, dims=[\"x\", \"y\"], coords={\"x\": range(512), \"y\": range(512)}),\n",
    "            \"fold\": dataset.attrs[\"fold\"]}"
   ]
  },
  {
   "cell_type": "code",
   "execution_count": null,
   "metadata": {},
   "outputs": [],
   "source": [
    "with h5py.File(fn, \"r\") as fd:\n",
    "    data = to_xarray(fd[\"0328d12a-4ad8-4504-8ac5-70089db10b4e_0\"])\n",
    "\n",
    "pre = data[\"pre\"]\n",
    "post = data[\"post\"]\n",
    "mask = data[\"mask\"]\n",
    "diff = data[\"post\"] - data[\"pre\"]\n",
    "\n",
    "n_bands = len(pre.band)"
   ]
  },
  {
   "attachments": {},
   "cell_type": "markdown",
   "metadata": {},
   "source": [
    "Looking at pre- and post- image"
   ]
  },
  {
   "cell_type": "code",
   "execution_count": null,
   "metadata": {},
   "outputs": [],
   "source": [
    "# Gamma Korrektur **0.45\n",
    "fig, ax =  plt.subplots(nrows=2, ncols=1, figsize=(12, 3*12))\n",
    "\n",
    "ax[0].imshow(pre.sel(band=[\"red\", \"green\", \"blue\"]).values**0.45, vmin=0, vmax=1, interpolation=\"nearest\")\n",
    "ax[1].imshow(post.sel(band=[\"red\", \"green\", \"blue\"]).values**0.45, vmin=0, vmax=1, interpolation=\"nearest\")\n",
    "# ax[1].imshow(deltaMask.sel(band=[\"red\", \"green\", \"blue\"]).values**0.45, vmin=0, vmax=1, interpolation=\"nearest\")\n",
    "for i in range(2):\n",
    "    ax[i].axis(\"off\")\n",
    "fig.tight_layout()"
   ]
  },
  {
   "attachments": {},
   "cell_type": "markdown",
   "metadata": {},
   "source": [
    "Comparing single bands using images"
   ]
  },
  {
   "cell_type": "code",
   "execution_count": null,
   "metadata": {},
   "outputs": [],
   "source": [
    "fig, ax =  plt.subplots(nrows=n_bands, ncols=4, figsize=(4 * 4, 4 * n_bands))\n",
    "\n",
    "for i, band in enumerate(pre.band):\n",
    "    ax[i, 0].imshow(diff.sel(band=band).values, cmap='gray', interpolation=\"nearest\")\n",
    "    ax[i, 0].set_title(band.values)\n",
    "    ax[i, 1].imshow(pre.sel(band=band).values, cmap='gray', interpolation=\"nearest\")\n",
    "    ax[i, 1].set_title(\"pre\")\n",
    "    ax[i, 2].imshow(post.sel(band=band).values, cmap='gray', interpolation=\"nearest\")\n",
    "    ax[i, 2].set_title(\"post\")\n",
    "    ax[i, 3].imshow(mask.values, interpolation=\"nearest\")\n",
    "    ax[i, 3].set_title(\"mask\")\n",
    "    for j in range(4):\n",
    "        ax[i, j].axis(\"off\")\n",
    "fig.tight_layout()"
   ]
  },
  {
   "attachments": {},
   "cell_type": "markdown",
   "metadata": {},
   "source": [
    "Display dispersion of bands in affected area"
   ]
  },
  {
   "cell_type": "code",
   "execution_count": null,
   "metadata": {},
   "outputs": [],
   "source": [
    "# Calculate the delta between the pre and post-fire images\n",
    "delta = post - pre\n",
    "flatMask = mask.values.flatten()\n",
    "\n",
    "\n",
    "fig, ax = plt.subplots(figsize=(16, 8))\n",
    "for band in post.band:\n",
    "    selBand = delta.sel(band=band).values.flatten()\n",
    "    dataPoints = []\n",
    "\n",
    "    for i, k in enumerate(flatMask):\n",
    "        if k:\n",
    "            dataPoints.append(selBand[i])\n",
    "\n",
    "    ax.plot(dataPoints, label=band.values)\n",
    "\n",
    "plt.legend()\n",
    "plt.show()\n",
    "\n",
    "\n"
   ]
  },
  {
   "attachments": {},
   "cell_type": "markdown",
   "metadata": {},
   "source": [
    "Display dispersion of bands outside affected Area"
   ]
  },
  {
   "cell_type": "code",
   "execution_count": null,
   "metadata": {},
   "outputs": [],
   "source": [
    "fig, ax = plt.subplots(figsize=(16, 8))\n",
    "for band in post.band:\n",
    "    selBand = delta.sel(band=band).values.flatten()\n",
    "    dataPoints = []\n",
    "\n",
    "    for i, k in enumerate(flatMask):\n",
    "        if not k:\n",
    "            dataPoints.append(selBand[i])\n",
    "\n",
    "    ax.plot(dataPoints[::800], label=band.values)\n",
    "\n",
    "plt.legend()\n",
    "plt.show()"
   ]
  },
  {
   "attachments": {},
   "cell_type": "markdown",
   "metadata": {},
   "source": [
    "Score of"
   ]
  },
  {
   "attachments": {},
   "cell_type": "markdown",
   "metadata": {},
   "source": [
    "### Broad Analysis"
   ]
  },
  {
   "cell_type": "code",
   "execution_count": null,
   "metadata": {},
   "outputs": [],
   "source": []
  }
 ],
 "metadata": {
  "kernelspec": {
   "display_name": "Python 3",
   "language": "python",
   "name": "python3"
  },
  "language_info": {
   "codemirror_mode": {
    "name": "ipython",
    "version": 3
   },
   "file_extension": ".py",
   "mimetype": "text/x-python",
   "name": "python",
   "nbconvert_exporter": "python",
   "pygments_lexer": "ipython3",
   "version": "3.10.6"
  },
  "orig_nbformat": 4
 },
 "nbformat": 4,
 "nbformat_minor": 2
}
