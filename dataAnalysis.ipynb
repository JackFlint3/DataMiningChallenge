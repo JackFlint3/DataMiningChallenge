{
 "cells": [
  {
   "attachments": {},
   "cell_type": "markdown",
   "metadata": {},
   "source": [
    "### Imports"
   ]
  },
  {
   "cell_type": "code",
   "execution_count": 1,
   "metadata": {},
   "outputs": [],
   "source": [
    "import h5py\n",
    "import numpy as np\n",
    "import pandas as pd\n",
    "import xarray as xr\n",
    "import seaborn as sns\n",
    "import matplotlib.pyplot as plt\n",
    "import csv\n",
    "\n",
    "\n",
    "from tqdm import tqdm\n",
    "from pathlib import Path\n",
    "from sklearn.preprocessing import normalize\n",
    "from sklearn.preprocessing import MinMaxScaler"
   ]
  },
  {
   "cell_type": "code",
   "execution_count": 2,
   "metadata": {},
   "outputs": [],
   "source": [
    "BASEDIR = Path(\"\")\n",
    "\n",
    "fn = BASEDIR / \"train_eval.hdf5\""
   ]
  },
  {
   "attachments": {},
   "cell_type": "markdown",
   "metadata": {},
   "source": [
    "### Pre Evaluation"
   ]
  },
  {
   "attachments": {},
   "cell_type": "markdown",
   "metadata": {},
   "source": [
    "Iterate over the different Groups and summarize them to get an idea of which to use to analyze"
   ]
  },
  {
   "cell_type": "code",
   "execution_count": 3,
   "metadata": {},
   "outputs": [],
   "source": [
    "objectWithMask = 0\n",
    "objectWithPost_fire = 0\n",
    "objectWithPre_fire = 0\n",
    "\n",
    "objectsSummary = []\n",
    "currentObject = {}\n",
    "\n",
    "def listObject(obj, indent=0):\n",
    "    global objectWithMask\n",
    "    global objectWithPost_fire\n",
    "    global objectWithPre_fire\n",
    "    global objectsSummary\n",
    "    global currentObject\n",
    "\n",
    "    \n",
    "    \n",
    "    for name, thing in obj.items():\n",
    "        if indent == 0:\n",
    "            currentObject = { \"name\" : \"\", \"mask\": False, \"pre_fire\" : False, \"post_fire\": False}\n",
    "\n",
    "        if isinstance(thing, h5py.Group):\n",
    "            if indent == 0:\n",
    "                currentObject[\"name\"] = name\n",
    "            listObject(thing, indent+1)\n",
    "            \n",
    "        else:\n",
    "            if name == \"mask\":\n",
    "                currentObject[\"mask\"] = True\n",
    "                objectWithMask += 1\n",
    "            elif name == \"post_fire\":\n",
    "                currentObject[\"post_fire\"] = True\n",
    "                objectWithPost_fire += 1\n",
    "            elif name == \"pre_fire\":\n",
    "                currentObject[\"pre_fire\"] = True\n",
    "                objectWithPre_fire += 1\n",
    "            else:\n",
    "                print(name)\n",
    "    \n",
    "        if indent == 0:\n",
    "            objectsSummary.append(currentObject)"
   ]
  },
  {
   "cell_type": "code",
   "execution_count": 4,
   "metadata": {},
   "outputs": [],
   "source": [
    "with h5py.File(fn, \"r\") as fd:\n",
    "    listObject(fd)"
   ]
  },
  {
   "cell_type": "code",
   "execution_count": 5,
   "metadata": {},
   "outputs": [
    {
     "name": "stdout",
     "output_type": "stream",
     "text": [
      "Items with mask: 534\n",
      "Items with pre_fire: 356\n",
      "Items with post_fire: 534\n",
      "Overall Items: 534\n"
     ]
    }
   ],
   "source": [
    "print(\"Items with mask: \" + str(objectWithMask))\n",
    "print(\"Items with pre_fire: \" + str(objectWithPre_fire))\n",
    "print(\"Items with post_fire: \" + str(objectWithPost_fire))\n",
    "print(\"Overall Items: \" + str(len(objectsSummary)))"
   ]
  },
  {
   "attachments": {},
   "cell_type": "markdown",
   "metadata": {},
   "source": [
    "### Analysis Functions"
   ]
  },
  {
   "attachments": {},
   "cell_type": "markdown",
   "metadata": {},
   "source": [
    "Xarray Transformation"
   ]
  },
  {
   "cell_type": "code",
   "execution_count": 6,
   "metadata": {},
   "outputs": [],
   "source": [
    "# Function copied from practice\n",
    "def to_xarray(dataset, pretty_band_names=True):\n",
    "    \"\"\"... Ergänzen Sie hier eine guten Docstring ... \"\"\"\n",
    "    \n",
    "    if pretty_band_names:\n",
    "        BANDS = [\"coastal_aerosol\", \"blue\", \"green\", \"red\",\n",
    "                 \"veg_red_1\", \"veg_red_2\", \"veg_red_3\", \"nir\", \n",
    "                 \"veg_red_4\", \"water_vapour\", \"swir_1\", \"swir_2\"]\n",
    "    else:\n",
    "        BANDS = [\"1\", \"2\", \"3\", \"4\", \"5\", \"6\", \"7\", \"8\", \"8a\", \"9\", \"11\", \"12\"]\n",
    "        \n",
    "    post = dataset[\"post_fire\"][...].astype(\"float32\") / 10000.0\n",
    "    \n",
    "    # Da `pre_fire` manchmal fehlt ersetzen wir es durch 0 Werte was\n",
    "    # eh der Platzhalter für einen fehlenden Messwert ist.\n",
    "    try:\n",
    "        pre = dataset[\"pre_fire\"][...].astype(\"float32\") / 10000.0\n",
    "    except KeyError:\n",
    "        pre = np.zeros_like(post, dtype=\"float32\")\n",
    "        \n",
    "    # Da die Maske nur ein \"Band\" hat können wir die dritte Dimension einfach\n",
    "    # weglassen. Das erreichen wir in dem wir mit `0` am Ende indizieren.\n",
    "    mask = dataset[\"mask\"][..., 0]\n",
    "    \n",
    "    return {\"pre\": xr.DataArray(pre, dims=[\"x\", \"y\", \"band\"], coords={\"x\": range(512), \"y\": range(512), \"band\": BANDS}),\n",
    "            \"post\": xr.DataArray(post, dims=[\"x\", \"y\", \"band\"], coords={\"x\": range(512), \"y\": range(512), \"band\": BANDS}),\n",
    "            \"mask\": xr.DataArray(mask, dims=[\"x\", \"y\"], coords={\"x\": range(512), \"y\": range(512)}),\n",
    "            \"fold\": dataset.attrs[\"fold\"]}"
   ]
  },
  {
   "cell_type": "code",
   "execution_count": 7,
   "metadata": {},
   "outputs": [],
   "source": [
    "def scoreBands(xdDataArray, xdMask):\n",
    "    bands = []\n",
    "    scaler = MinMaxScaler()\n",
    "    flatxdMask = xdMask.values.flatten()\n",
    "\n",
    "    for band in xdDataArray.band:\n",
    "        bandScore = {}\n",
    "        bandScore[\"name\"] = band.values\n",
    "\n",
    "        dataPoints = 0\n",
    "        truePoints = 0\n",
    "        falsePoints = 0\n",
    "        overallScore = 0.0\n",
    "        falseScore = 0.0\n",
    "        trueScore = 0.0\n",
    "        minTrue = 0.0\n",
    "        maxTrue = 0.0\n",
    "        minFalse = 0.0\n",
    "        maxFalse = 0.0\n",
    "\n",
    "\n",
    "        selBand = xdDataArray.sel(band=band).values\n",
    "        normband = scaler.fit_transform(selBand)\n",
    "        flatBand = normband.flatten()\n",
    "        \n",
    "        for i, k in enumerate(flatxdMask):\n",
    "            dataPoints += 1\n",
    "            point = flatBand[i]\n",
    "            if k:\n",
    "                truePoints += 1\n",
    "                if (minTrue > point):\n",
    "                    minTrue = point\n",
    "\n",
    "                if (maxTrue < point):\n",
    "                    maxTrue = point\n",
    "\n",
    "                trueScore += point\n",
    "            else:\n",
    "                falsePoints += 1\n",
    "                if (minFalse > point):\n",
    "                    minFalse = point\n",
    "                    \n",
    "                if (maxFalse < point):\n",
    "                    maxFalse = point\n",
    "\n",
    "                falseScore += point\n",
    "\n",
    "        overallScore = trueScore + falseScore\n",
    "        bandScore[\"dataPoints\"] = dataPoints\n",
    "        bandScore[\"truePoints\"] = truePoints\n",
    "        bandScore[\"falsePoints\"] = falsePoints\n",
    "        bandScore[\"overallScore\"] = overallScore\n",
    "        bandScore[\"trueScore\"] = trueScore\n",
    "        bandScore[\"falseScore\"] = falseScore\n",
    "\n",
    "        if dataPoints != 0:\n",
    "            bandScore[\"avgScore\"] = overallScore/dataPoints\n",
    "        else:\n",
    "            bandScore[\"avgScore\"] = 0\n",
    "        \n",
    "        if truePoints != 0:\n",
    "            bandScore[\"avgTrue\"] = trueScore/truePoints\n",
    "        else :\n",
    "            bandScore[\"avgTrue\"] = trueScore\n",
    "\n",
    "        if falsePoints != 0:\n",
    "            bandScore[\"avgFalse\"] = falseScore/falsePoints\n",
    "        else:\n",
    "            bandScore[\"avgFalse\"] = falseScore\n",
    "            \n",
    "        bandScore[\"minTrue\"] = minTrue\n",
    "        bandScore[\"maxTrue\"] = maxTrue\n",
    "        bandScore[\"minFalse\"] = minFalse\n",
    "        bandScore[\"maxFalse\"] = maxFalse\n",
    "        \n",
    "\n",
    "        bands.append(bandScore)\n",
    "    return bands"
   ]
  },
  {
   "cell_type": "code",
   "execution_count": null,
   "metadata": {},
   "outputs": [],
   "source": [
    "def readFromCsv():\n",
    "    scoreTypes = [\"preScores\", \"postScores\", \"deltaScores\"]\n",
    "    scoreKeys = [\"truePoints\", \"falsePoints\", \"overallScore\", \"trueScore\", \"falseScore\", \"avgScore\", \"avgTrue\", \"avgFalse\", \"minTrue\", \"maxTrue\", \"minFalse\", \"maxFalse\" ]\n",
    "\n",
    "    scoreFileData = { \"entries\" : [] , \"count\" : 0}\n",
    "    with open('scores.csv', 'r', newline='') as csvfile:\n",
    "        scoresReader = csv.reader(csvfile, delimiter=';',\n",
    "                                quotechar='|')\n",
    "        \n",
    "        count = 0\n",
    "        entry = { \"descriptor\" : { \"name\" : \"\", \"mask\": True, \"pre_fire\" : True, \"post_fire\": True}, \"scores\" : {}}\n",
    "        for row in scoresReader:\n",
    "            \n",
    "            if count == 0:\n",
    "                count += 1\n",
    "                continue\n",
    "            \n",
    "            key = \"\"\n",
    "            band = {}\n",
    "            for i, value in enumerate(row):\n",
    "                if i == 0:\n",
    "                    if entry[\"descriptor\"][\"name\"] != value:\n",
    "                        if entry[\"descriptor\"][\"name\"] != \"\":\n",
    "                            scoreFileData[\"entries\"].append(entry)\n",
    "                        entry = { \"descriptor\" : { \"name\" : value, \"mask\": True, \"pre_fire\" : True, \"post_fire\": True}, \"scores\" : {}}\n",
    "                        count += 1\n",
    "\n",
    "                elif i == 1:\n",
    "                    key = value\n",
    "                    if not key in entry[\"scores\"]:\n",
    "                        entry[\"scores\"][key] = []\n",
    "                elif i == 2:\n",
    "                    band[\"name\"] = value\n",
    "                else:\n",
    "                    band[scoreKeys[i - 3]] = float(value)\n",
    "\n",
    "            entry[\"scores\"][key].append(band)\n",
    "\n",
    "        scoreFileData[\"count\"] = count\n",
    "\n",
    "    return scoreFileData"
   ]
  },
  {
   "cell_type": "code",
   "execution_count": null,
   "metadata": {},
   "outputs": [],
   "source": [
    "def writeTocsv(globalScores):\n",
    "    scoreTypes = [\"preScores\", \"postScores\", \"deltaScores\"]\n",
    "    scoreKeys = [\"truePoints\", \"falsePoints\", \"overallScore\", \"trueScore\", \"falseScore\", \"avgScore\", \"avgTrue\", \"avgFalse\", \"minTrue\", \"maxTrue\", \"minFalse\", \"maxFalse\" ]\n",
    "\n",
    "    with open('scores.csv', 'w', newline='') as csvfile:\n",
    "        scoresWriter = csv.writer(csvfile, delimiter=';',\n",
    "                                quotechar='|', quoting=csv.QUOTE_MINIMAL)\n",
    "        \n",
    "        #write header\n",
    "        scoresWriter.writerow([\"id\", \"dataType\", \"band\"] + scoreKeys)\n",
    "\n",
    "        #write data\n",
    "        for entry in globalScores[\"entries\"]:\n",
    "            for scoreType in scoreTypes:\n",
    "                for bandScore in entry[\"scores\"][scoreType]:\n",
    "                    data = []\n",
    "\n",
    "                    for scoreKey in scoreKeys:\n",
    "                        data.append(bandScore[scoreKey])\n",
    "\n",
    "                    scoresWriter.writerow([\n",
    "                        entry[\"descriptor\"][\"name\"],\n",
    "                        scoreType,\n",
    "                        bandScore[\"name\"]\n",
    "                    ] + data)"
   ]
  },
  {
   "cell_type": "code",
   "execution_count": null,
   "metadata": {},
   "outputs": [],
   "source": [
    "def readAllData():\n",
    "    with h5py.File(fn, \"r\") as fd:\n",
    "        for entry in objectsSummary:\n",
    "            if entry[\"mask\"] and entry[\"pre_fire\"] and entry[\"post_fire\"]:\n",
    "                globalEntry = { \"descriptor\" : entry, \"scores\" : {} }\n",
    "                globalScores[\"count\"] += 1\n",
    "                xdData = to_xarray(fd[entry[\"name\"]])\n",
    "\n",
    "                prexdData = xdData[\"pre\"]\n",
    "                postxdData = xdData[\"post\"]\n",
    "                deltaxdData = postxdData - prexdData\n",
    "                maskxdData = xdData[\"mask\"]\n",
    "\n",
    "                globalEntry[\"scores\"][\"preScores\"] = scoreBands(prexdData, maskxdData)\n",
    "                globalEntry[\"scores\"][\"postScores\"] = scoreBands(postxdData, maskxdData)\n",
    "                globalEntry[\"scores\"][\"deltaScores\"] = scoreBands(deltaxdData, maskxdData)\n",
    "\n",
    "                globalScores[\"entries\"].append(globalEntry)"
   ]
  },
  {
   "attachments": {},
   "cell_type": "markdown",
   "metadata": {},
   "source": [
    "### Single Case Evaluation"
   ]
  },
  {
   "attachments": {},
   "cell_type": "markdown",
   "metadata": {},
   "source": [
    "Visualizing some of the images provided: \n",
    "Looking at pre- and post- image"
   ]
  },
  {
   "cell_type": "code",
   "execution_count": 8,
   "metadata": {},
   "outputs": [],
   "source": [
    "def showComposedPrePostImage(id):\n",
    "    with h5py.File(fn, \"r\") as fd:\n",
    "        data = to_xarray(fd[id])\n",
    "\n",
    "    pre = data[\"pre\"]\n",
    "    post = data[\"post\"]\n",
    "\n",
    "    # Gamma Korrektur **0.45\n",
    "    fig, ax =  plt.subplots(nrows=2, ncols=1, figsize=(12, 3*12))\n",
    "\n",
    "    ax[0].imshow(pre.sel(band=[\"red\", \"green\", \"blue\"]).values**0.45, vmin=0, vmax=1, interpolation=\"nearest\")\n",
    "    ax[1].imshow(post.sel(band=[\"red\", \"green\", \"blue\"]).values**0.45, vmin=0, vmax=1, interpolation=\"nearest\")\n",
    "    # ax[1].imshow(deltaMask.sel(band=[\"red\", \"green\", \"blue\"]).values**0.45, vmin=0, vmax=1, interpolation=\"nearest\")\n",
    "    for i in range(2):\n",
    "        ax[i].axis(\"off\")\n",
    "    fig.tight_layout()"
   ]
  },
  {
   "cell_type": "code",
   "execution_count": 9,
   "metadata": {},
   "outputs": [],
   "source": [
    "#showComposedPrePostImage(\"0328d12a-4ad8-4504-8ac5-70089db10b4e_0\")"
   ]
  },
  {
   "attachments": {},
   "cell_type": "markdown",
   "metadata": {},
   "source": [
    "Comparing single bands using images"
   ]
  },
  {
   "cell_type": "code",
   "execution_count": 10,
   "metadata": {},
   "outputs": [],
   "source": [
    "def showImageBandsComparison(id):\n",
    "    with h5py.File(fn, \"r\") as fd:\n",
    "        data = to_xarray(fd[id])\n",
    "\n",
    "    pre = data[\"pre\"]\n",
    "    post = data[\"post\"]\n",
    "    mask = data[\"mask\"]\n",
    "    diff = data[\"post\"] - data[\"pre\"]\n",
    "\n",
    "    n_bands = len(pre.band)\n",
    "    fig, ax =  plt.subplots(nrows=n_bands, ncols=4, figsize=(4 * 4, 4 * n_bands))\n",
    "\n",
    "    for i, band in enumerate(pre.band):\n",
    "        ax[i, 0].imshow(diff.sel(band=band).values, cmap='gray', interpolation=\"nearest\")\n",
    "        ax[i, 0].set_title(band.values)\n",
    "        ax[i, 1].imshow(pre.sel(band=band).values, cmap='gray', interpolation=\"nearest\")\n",
    "        ax[i, 1].set_title(\"pre\")\n",
    "        ax[i, 2].imshow(post.sel(band=band).values, cmap='gray', interpolation=\"nearest\")\n",
    "        ax[i, 2].set_title(\"post\")\n",
    "        ax[i, 3].imshow(mask.values, interpolation=\"nearest\")\n",
    "        ax[i, 3].set_title(\"mask\")\n",
    "        for j in range(4):\n",
    "            ax[i, j].axis(\"off\")\n",
    "    fig.tight_layout()"
   ]
  },
  {
   "cell_type": "code",
   "execution_count": 11,
   "metadata": {},
   "outputs": [],
   "source": [
    "#showImageBandsComparison(\"0328d12a-4ad8-4504-8ac5-70089db10b4e_0\")"
   ]
  },
  {
   "attachments": {},
   "cell_type": "markdown",
   "metadata": {},
   "source": [
    "Display dispersion of bands in affected area"
   ]
  },
  {
   "cell_type": "code",
   "execution_count": 12,
   "metadata": {},
   "outputs": [],
   "source": [
    "# Calculate the delta between the pre and post-fire images\n",
    "def showDispersonByAffected(id):\n",
    "    \n",
    "    with h5py.File(fn, \"r\") as fd:\n",
    "        data = to_xarray(fd[id])\n",
    "\n",
    "    pre = data[\"pre\"]\n",
    "    post = data[\"post\"]\n",
    "    mask = data[\"mask\"]\n",
    "    diff = data[\"post\"] - data[\"pre\"]\n",
    "    \n",
    "    flatMask = mask.values.flatten()\n",
    "\n",
    "\n",
    "    fig, ax = plt.subplots(figsize=(16, 8))\n",
    "    for band in post.band:\n",
    "        selBand = diff.sel(band=band).values.flatten()\n",
    "        dataPoints = []\n",
    "\n",
    "        for i, k in enumerate(flatMask):\n",
    "            if k:\n",
    "                dataPoints.append(selBand[i])\n",
    "\n",
    "        ax.plot(dataPoints, label=band.values)\n",
    "\n",
    "    plt.legend()\n",
    "    plt.show()"
   ]
  },
  {
   "cell_type": "code",
   "execution_count": 13,
   "metadata": {},
   "outputs": [],
   "source": [
    "#showDispersonByAffected(\"0328d12a-4ad8-4504-8ac5-70089db10b4e_0\")"
   ]
  },
  {
   "attachments": {},
   "cell_type": "markdown",
   "metadata": {},
   "source": [
    "Display dispersion of bands outside affected Area"
   ]
  },
  {
   "cell_type": "code",
   "execution_count": 14,
   "metadata": {},
   "outputs": [],
   "source": [
    "def showDispersionByUnaffected(id):\n",
    "    with h5py.File(fn, \"r\") as fd:\n",
    "        data = to_xarray(fd[id])\n",
    "\n",
    "    pre = data[\"pre\"]\n",
    "    post = data[\"post\"]\n",
    "    mask = data[\"mask\"]\n",
    "    diff = data[\"post\"] - data[\"pre\"]\n",
    "\n",
    "  \n",
    "    flatMask = mask.values.flatten()\n",
    "\n",
    "    fig, ax = plt.subplots(figsize=(16, 8))\n",
    "    for band in post.band:\n",
    "        selBand = diff.sel(band=band).values.flatten()\n",
    "        dataPoints = []\n",
    "\n",
    "        for i, k in enumerate(flatMask):\n",
    "            if not k:\n",
    "                dataPoints.append(selBand[i])\n",
    "\n",
    "        ax.plot(dataPoints[::800], label=band.values)\n",
    "\n",
    "    plt.legend()\n",
    "    plt.show()"
   ]
  },
  {
   "cell_type": "code",
   "execution_count": 15,
   "metadata": {},
   "outputs": [],
   "source": [
    "#showDispersionByUnaffected(\"0328d12a-4ad8-4504-8ac5-70089db10b4e_0\")"
   ]
  },
  {
   "attachments": {},
   "cell_type": "markdown",
   "metadata": {},
   "source": [
    "Distribution of Bands overall"
   ]
  },
  {
   "cell_type": "code",
   "execution_count": 16,
   "metadata": {},
   "outputs": [],
   "source": [
    "def showOverallDistributionOfBands(id):\n",
    "    with h5py.File(fn, \"r\") as fd:\n",
    "        data = to_xarray(fd[id])\n",
    "\n",
    "    post = data[\"post\"]\n",
    "    diff = data[\"post\"] - data[\"pre\"]\n",
    "\n",
    "    scaler = MinMaxScaler()\n",
    "\n",
    "    fig, ax = plt.subplots(figsize=(16, 8))\n",
    "    for band in post.band:\n",
    "        selBand = diff.sel(band=band).values\n",
    "        normband = scaler.fit_transform(selBand)\n",
    "        flatBand = normband.flatten()\n",
    "\n",
    "        sns.kdeplot(flatBand, label = band.values)\n",
    "\n",
    "    ax.set_xlabel('Delta')\n",
    "    ax.set_ylabel('Density')\n",
    "    plt.legend()\n",
    "    plt.show()"
   ]
  },
  {
   "cell_type": "code",
   "execution_count": 17,
   "metadata": {},
   "outputs": [],
   "source": [
    "#showOverallDistributionOfBands(\"0328d12a-4ad8-4504-8ac5-70089db10b4e_0\")"
   ]
  },
  {
   "attachments": {},
   "cell_type": "markdown",
   "metadata": {},
   "source": [
    "Distribution of Bands that are in affected areas"
   ]
  },
  {
   "cell_type": "code",
   "execution_count": 18,
   "metadata": {},
   "outputs": [],
   "source": [
    "def showOverallDistributionOfBandsByAffected(id):\n",
    "    with h5py.File(fn, \"r\") as fd:\n",
    "        data = to_xarray(fd[id])\n",
    "\n",
    "    pre = data[\"pre\"]\n",
    "    post = data[\"post\"]\n",
    "    mask = data[\"mask\"]\n",
    "    diff = data[\"post\"] - data[\"pre\"]\n",
    "\n",
    "    flatMask = mask.values.flatten()\n",
    "    scaler = MinMaxScaler()\n",
    "\n",
    "    fig, ax = plt.subplots(figsize=(16, 8))\n",
    "    for band in post.band:\n",
    "        selBand = diff.sel(band=band).values\n",
    "        normband = scaler.fit_transform(selBand)\n",
    "        flatBand = normband.flatten()\n",
    "        \n",
    "        #dataPoints = delta.sel(band=band).values\n",
    "        dataPoints = []\n",
    "\n",
    "        for i, k in enumerate(flatMask):\n",
    "            if k:\n",
    "                dataPoints.append(flatBand[i])\n",
    "        \n",
    "        #ax.plot(dataPoints, label=band.values)\n",
    "        sns.kdeplot(dataPoints, label = band.values)\n",
    "\n",
    "    ax.set_xlabel('Delta')\n",
    "    ax.set_ylabel('Density')\n",
    "    plt.legend()\n",
    "    plt.show()"
   ]
  },
  {
   "cell_type": "code",
   "execution_count": 19,
   "metadata": {},
   "outputs": [],
   "source": [
    "#showOverallDistributionOfBandsByAffected(\"0328d12a-4ad8-4504-8ac5-70089db10b4e_0\")"
   ]
  },
  {
   "attachments": {},
   "cell_type": "markdown",
   "metadata": {},
   "source": [
    "Visualizing how each band scores"
   ]
  },
  {
   "cell_type": "code",
   "execution_count": 20,
   "metadata": {},
   "outputs": [],
   "source": [
    "def showBandScoresDistribution(id):\n",
    "    with h5py.File(fn, \"r\") as fd:\n",
    "        data = to_xarray(fd[id])\n",
    "\n",
    "    pre = data[\"pre\"]\n",
    "    post = data[\"post\"]\n",
    "    mask = data[\"mask\"]\n",
    "\n",
    "    bands = scoreBands(post, mask)\n",
    "\n",
    "    xLabel = \"trueScore\"\n",
    "    yLabel = \"falseScore\"\n",
    "\n",
    "    fig, ax = plt.subplots(figsize=(16, 8))\n",
    "    for band in bands:\n",
    "        \n",
    "        truthiness = band[\"trueScore\"] / band[\"falseScore\"]\n",
    "        \n",
    "        ax.scatter(x = band[xLabel], \n",
    "                y = band[yLabel], \n",
    "                s = (truthiness * 20000), \n",
    "                label=band[\"name\"])\n",
    "\n",
    "    ax.set_xlabel(xLabel)\n",
    "    ax.set_ylabel(yLabel)\n",
    "    plt.legend()\n",
    "    plt.show()"
   ]
  },
  {
   "cell_type": "code",
   "execution_count": 21,
   "metadata": {},
   "outputs": [],
   "source": [
    "#showBandScoresDistribution(\"0328d12a-4ad8-4504-8ac5-70089db10b4e_0\")"
   ]
  },
  {
   "attachments": {},
   "cell_type": "markdown",
   "metadata": {},
   "source": [
    "Visualizing how accurate each band is"
   ]
  },
  {
   "cell_type": "code",
   "execution_count": 22,
   "metadata": {},
   "outputs": [],
   "source": [
    "def showBandScoresAccuracy(id):\n",
    "    with h5py.File(fn, \"r\") as fd:\n",
    "        data = to_xarray(fd[id])\n",
    "\n",
    "    pre = data[\"pre\"]\n",
    "    post = data[\"post\"]\n",
    "    mask = data[\"mask\"]\n",
    "\n",
    "    fig, ax = plt.subplots(figsize=(16, 8))\n",
    "    bands = scoreBands(post, mask)\n",
    "    for band in bands:\n",
    "        \n",
    "\n",
    "        trueVariation = abs(band[\"maxTrue\"] - band[\"minTrue\"])\n",
    "        \n",
    "\n",
    "        \n",
    "        ax.scatter(x = band[\"avgFalse\"], \n",
    "                y = band[\"avgTrue\"], \n",
    "                s = (1 + trueVariation) ** 6, \n",
    "                label=band[\"name\"])\n",
    "\n",
    "    ax.set_xlabel(\"avgFalse\")\n",
    "    ax.set_ylabel(\"avgTrue\")\n",
    "    ax.grid(True)\n",
    "    plt.legend()\n",
    "    plt.show()"
   ]
  },
  {
   "cell_type": "code",
   "execution_count": 23,
   "metadata": {},
   "outputs": [],
   "source": [
    "#showBandScoresAccuracy(\"0328d12a-4ad8-4504-8ac5-70089db10b4e_0\")"
   ]
  },
  {
   "attachments": {},
   "cell_type": "markdown",
   "metadata": {},
   "source": [
    "### Broad Analysis"
   ]
  },
  {
   "cell_type": "code",
   "execution_count": 24,
   "metadata": {},
   "outputs": [],
   "source": [
    "globalScores = { \"entries\" : [], \"count\" : 0 }"
   ]
  },
  {
   "cell_type": "code",
   "execution_count": 25,
   "metadata": {},
   "outputs": [],
   "source": [
    "\n"
   ]
  },
  {
   "cell_type": "code",
   "execution_count": 26,
   "metadata": {},
   "outputs": [],
   "source": []
  },
  {
   "cell_type": "code",
   "execution_count": 48,
   "metadata": {},
   "outputs": [],
   "source": []
  },
  {
   "cell_type": "code",
   "execution_count": 49,
   "metadata": {},
   "outputs": [],
   "source": [
    "#globalScores = readAllData()\n",
    "globalScores = readFromCsv()"
   ]
  },
  {
   "cell_type": "code",
   "execution_count": 50,
   "metadata": {},
   "outputs": [],
   "source": [
    "globalAverage = {}"
   ]
  },
  {
   "cell_type": "code",
   "execution_count": 58,
   "metadata": {},
   "outputs": [],
   "source": [
    "def generateAverage(globalScores):\n",
    "    globalAverage = {}\n",
    "    keys = [\"preScores\", \"postScores\", \"deltaScores\"]\n",
    "    names = []\n",
    "    for entry in globalScores[\"entries\"]:\n",
    "        for key in keys:\n",
    "            if not key in globalAverage:\n",
    "                globalAverage[key] = {}\n",
    "\n",
    "\n",
    "            for bandScore in entry[\"scores\"][key]:\n",
    "                name = bandScore[\"name\"]\n",
    "                if not name in globalAverage[key]:\n",
    "                    globalAverage[key][name] = { \"name\" : name, \"truePoints\": 0.0, \"falsePoints\": 0.0, \"overallScore\": 0.0, \"trueScore\": 0.0, \"falseScore\": 0.0, \n",
    "                                    \"avgScore\": 0.0, \"avgTrue\": 0.0, \"avgFalse\": 0.0, \"minTrue\": 0.0, \"maxTrue\": 0.0, \"minFalse\": 0.0, \"maxFalse\": 0.0 }\n",
    "                    if not name in names:\n",
    "                        names.append(name)\n",
    "                \n",
    "                globalAverage[key][name][\"truePoints\"] += bandScore[\"truePoints\"]\n",
    "                globalAverage[key][name][\"falsePoints\"] += bandScore[\"falsePoints\"]\n",
    "                globalAverage[key][name][\"overallScore\"] += bandScore[\"overallScore\"]\n",
    "                globalAverage[key][name][\"trueScore\"] += bandScore[\"trueScore\"]\n",
    "                globalAverage[key][name][\"falseScore\"] += bandScore[\"falseScore\"]\n",
    "                globalAverage[key][name][\"avgScore\"] += bandScore[\"avgScore\"]\n",
    "                globalAverage[key][name][\"avgTrue\"] += bandScore[\"avgTrue\"]\n",
    "                globalAverage[key][name][\"avgFalse\"] += bandScore[\"avgFalse\"]\n",
    "\n",
    "                if not globalAverage[key][name][\"minTrue\"] or globalAverage[key][name][\"minTrue\"] > bandScore[\"minTrue\"]:\n",
    "                    globalAverage[key][name][\"minTrue\"] = bandScore[\"minTrue\"]\n",
    "\n",
    "                if not globalAverage[key][name][\"maxTrue\"] or globalAverage[key][name][\"maxTrue\"] < bandScore[\"maxTrue\"]:\n",
    "                    globalAverage[key][name][\"maxTrue\"] = bandScore[\"maxTrue\"]\n",
    "\n",
    "                if not globalAverage[key][name][\"minFalse\"] or globalAverage[key][name][\"minFalse\"] > bandScore[\"minFalse\"]:\n",
    "                    globalAverage[key][name][\"minFalse\"] = bandScore[\"minFalse\"]\n",
    "\n",
    "                if not globalAverage[key][name][\"maxFalse\"] or globalAverage[key][name][\"maxFalse\"] < bandScore[\"maxFalse\"]:\n",
    "                    globalAverage[key][name][\"maxFalse\"] = bandScore[\"maxFalse\"]\n",
    "\n",
    "    for key in keys:\n",
    "        for name in names:\n",
    "            globalAverage[key][name][\"truePoints\"] = globalAverage[key][name][\"truePoints\"] / globalScores[\"count\"]\n",
    "            globalAverage[key][name][\"falsePoints\"] = globalAverage[key][name][\"falsePoints\"] / globalScores[\"count\"]\n",
    "            globalAverage[key][name][\"overallScore\"] = globalAverage[key][name][\"overallScore\"] / globalScores[\"count\"]\n",
    "            globalAverage[key][name][\"trueScore\"] = globalAverage[key][name][\"trueScore\"] / globalScores[\"count\"]\n",
    "            globalAverage[key][name][\"falseScore\"] = globalAverage[key][name][\"falseScore\"] / globalScores[\"count\"]\n",
    "            globalAverage[key][name][\"avgScore\"] = globalAverage[key][name][\"avgScore\"] / globalScores[\"count\"]\n",
    "            globalAverage[key][name][\"avgTrue\"] = globalAverage[key][name][\"avgTrue\"] / globalScores[\"count\"]\n",
    "            globalAverage[key][name][\"avgFalse\"] = globalAverage[key][name][\"avgFalse\"] / globalScores[\"count\"]\n",
    "    return globalAverage"
   ]
  },
  {
   "cell_type": "code",
   "execution_count": 59,
   "metadata": {},
   "outputs": [],
   "source": [
    "globalAverage = generateAverage(globalScores=globalScores)"
   ]
  },
  {
   "cell_type": "code",
   "execution_count": 65,
   "metadata": {},
   "outputs": [
    {
     "data": {
      "image/png": "[encoded data removed]",
      "text/plain": [
       "<Figure size 1600x800 with 1 Axes>"
      ]
     },
     "metadata": {},
     "output_type": "display_data"
    }
   ],
   "source": [
    "fig, ax = plt.subplots(figsize=(16, 8))\n",
    "\n",
    "bands = globalAverage[\"deltaScores\"]\n",
    "for bandName in bands:\n",
    "\n",
    "    band = bands[bandName]\n",
    "\n",
    "    trueVariation = abs(band[\"maxTrue\"] - band[\"minTrue\"])\n",
    "    \n",
    "\n",
    "    \n",
    "    ax.scatter(x = band[\"avgFalse\"], \n",
    "            y = band[\"avgTrue\"], \n",
    "            s = (1 + trueVariation) ** 6, \n",
    "            label=band[\"name\"])\n",
    "\n",
    "ax.set_xlabel(\"avgFalse\")\n",
    "ax.set_ylabel(\"avgTrue\")\n",
    "ax.grid(True)\n",
    "plt.legend()\n",
    "plt.show()"
   ]
  }
 ],
 "metadata": {
  "kernelspec": {
   "display_name": "Python 3",
   "language": "python",
   "name": "python3"
  },
  "language_info": {
   "codemirror_mode": {
    "name": "ipython",
    "version": 3
   },
   "file_extension": ".py",
   "mimetype": "text/x-python",
   "name": "python",
   "nbconvert_exporter": "python",
   "pygments_lexer": "ipython3",
   "version": "3.10.6"
  },
  "orig_nbformat": 4
 },
 "nbformat": 4,
 "nbformat_minor": 2
}
